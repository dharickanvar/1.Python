{
 "cells": [
  {
   "cell_type": "code",
   "execution_count": 1,
   "id": "e32eec99",
   "metadata": {},
   "outputs": [
    {
     "name": "stdout",
     "output_type": "stream",
     "text": [
      "add\n",
      "40\n"
     ]
    }
   ],
   "source": [
    "num1=10\n",
    "num2=30\n",
    "add=num1+num2\n",
    "print(\"add\")\n",
    "print(add)"
   ]
  },
  {
   "cell_type": "code",
   "execution_count": 22,
   "id": "f568ddcf",
   "metadata": {},
   "outputs": [
    {
     "name": "stdout",
     "output_type": "stream",
     "text": [
      "The addiction of two numbers\n",
      "The number 1: 10\n",
      "The number 2: 20\n",
      "The Answer: 30\n"
     ]
    }
   ],
   "source": [
    "print(\"The addiction of two numbers\")\n",
    "print(\"The number 1: 10\")\n",
    "print(\"The number 2: 20\")\n",
    "num1=10\n",
    "num2=20\n",
    "add=num1+num2 \n",
    "print(\"The Answer:\",add)"
   ]
  },
  {
   "cell_type": "code",
   "execution_count": 37,
   "id": "d3dd4a6d",
   "metadata": {},
   "outputs": [
    {
     "name": "stdout",
     "output_type": "stream",
     "text": [
      "Enter the BMI Index:35\n"
     ]
    }
   ],
   "source": [
    "BMI=int(input(\"Enter the BMI Index:\"))"
   ]
  },
  {
   "cell_type": "code",
   "execution_count": 42,
   "id": "7232a219",
   "metadata": {},
   "outputs": [
    {
     "name": "stdout",
     "output_type": "stream",
     "text": [
      "Enter the BMI Index:35\n",
      "Very Overweight\n"
     ]
    }
   ],
   "source": [
    "BMI=int(input(\"Enter the BMI Index:\"))\n",
    "if(BMI<18.4):\n",
    "    print(\"Underweight\")\n",
    "elif(BMI<24.9):\n",
    "    print(\"Normal\")\n",
    "elif(BMI<29.9):\n",
    "    print(\"Overweight\")\n",
    "else:\n",
    "    print(\"Very Overweight\")"
   ]
  },
  {
   "cell_type": "code",
   "execution_count": 45,
   "id": "bc249522",
   "metadata": {},
   "outputs": [
    {
     "name": "stdout",
     "output_type": "stream",
     "text": [
      "HOPE AI\n"
     ]
    }
   ],
   "source": [
    "print(\"HOPE AI\")"
   ]
  },
  {
   "cell_type": "code",
   "execution_count": 47,
   "id": "27a1ff86",
   "metadata": {},
   "outputs": [
    {
     "name": "stdout",
     "output_type": "stream",
     "text": [
      "Enter the institute name? : HOPE AI\n"
     ]
    },
    {
     "data": {
      "text/plain": [
       "' HOPE AI'"
      ]
     },
     "execution_count": 47,
     "metadata": {},
     "output_type": "execute_result"
    }
   ],
   "source": [
    "input(\"Enter the institute name? :\")"
   ]
  },
  {
   "cell_type": "code",
   "execution_count": 50,
   "id": "45f54470",
   "metadata": {},
   "outputs": [
    {
     "name": "stdout",
     "output_type": "stream",
     "text": [
      "Enter your name:Raj\n",
      "Enter your age:15\n",
      "Enter your school name:Guru school\n",
      "Enter your degree:B.E CSE\n"
     ]
    },
    {
     "data": {
      "text/plain": [
       "'B.E CSE'"
      ]
     },
     "execution_count": 50,
     "metadata": {},
     "output_type": "execute_result"
    }
   ],
   "source": [
    "input(\"Enter your name:\")\n",
    "int(input(\"Enter your age:\"))\n",
    "input(\"Enter your school name:\")\n",
    "input(\"Enter your degree:\")"
   ]
  },
  {
   "cell_type": "code",
   "execution_count": 62,
   "id": "db8f87c7",
   "metadata": {},
   "outputs": [
    {
     "name": "stdout",
     "output_type": "stream",
     "text": [
      "a= 43\n",
      "b= 34\n",
      "add = 77\n"
     ]
    }
   ],
   "source": [
    "a=43\n",
    "b=34\n",
    "add=a+b\n",
    "print(\"a=\", a)\n",
    "print(\"b=\", b)\n",
    "print(\"add =\", add)"
   ]
  },
  {
   "cell_type": "code",
   "execution_count": 60,
   "id": "b717891d",
   "metadata": {},
   "outputs": [
    {
     "name": "stdout",
     "output_type": "stream",
     "text": [
      "a= 43\n",
      "b= 34\n",
      "Sub = 9\n"
     ]
    }
   ],
   "source": [
    "a=43\n",
    "b=34\n",
    "sub=a-b\n",
    "print(\"a=\", a)\n",
    "print(\"b=\", b)\n",
    "print(\"Sub =\", sub)"
   ]
  },
  {
   "cell_type": "code",
   "execution_count": 61,
   "id": "7e42cf2e",
   "metadata": {},
   "outputs": [
    {
     "name": "stdout",
     "output_type": "stream",
     "text": [
      "a= 63\n",
      "b= 97\n",
      "Mul = 6111\n"
     ]
    }
   ],
   "source": [
    "a=63\n",
    "b=97\n",
    "mul=a*b\n",
    "print(\"a=\", a)\n",
    "print(\"b=\", b)\n",
    "print(\"Mul =\", mul)"
   ]
  },
  {
   "cell_type": "code",
   "execution_count": 63,
   "id": "40b3dec9",
   "metadata": {},
   "outputs": [
    {
     "name": "stdout",
     "output_type": "stream",
     "text": [
      "a= 76\n",
      "b= 31\n",
      "Float Div = 2.4516129032258065\n"
     ]
    }
   ],
   "source": [
    "a=76\n",
    "b=31\n",
    "div=a/b\n",
    "print(\"a=\", a)\n",
    "print(\"b=\", b)\n",
    "print(\"Float Div =\", div)"
   ]
  },
  {
   "cell_type": "code",
   "execution_count": 64,
   "id": "d2b339c3",
   "metadata": {},
   "outputs": [
    {
     "name": "stdout",
     "output_type": "stream",
     "text": [
      "a= 76\n",
      "b= 31\n",
      "Floor Div = 14\n"
     ]
    }
   ],
   "source": [
    "a=76\n",
    "b=31\n",
    "div=a%b\n",
    "print(\"a=\", a)\n",
    "print(\"b=\", b)\n",
    "print(\"Floor Div =\", div)"
   ]
  },
  {
   "cell_type": "code",
   "execution_count": null,
   "id": "f9297504",
   "metadata": {},
   "outputs": [],
   "source": []
  }
 ],
 "metadata": {
  "kernelspec": {
   "display_name": "Python 3 (ipykernel)",
   "language": "python",
   "name": "python3"
  },
  "language_info": {
   "codemirror_mode": {
    "name": "ipython",
    "version": 3
   },
   "file_extension": ".py",
   "mimetype": "text/x-python",
   "name": "python",
   "nbconvert_exporter": "python",
   "pygments_lexer": "ipython3",
   "version": "3.11.3"
  }
 },
 "nbformat": 4,
 "nbformat_minor": 5
}
